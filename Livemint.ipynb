{
 "cells": [
  {
   "cell_type": "code",
   "execution_count": 3,
   "metadata": {},
   "outputs": [
    {
     "data": {
      "text/html": [
       "<script>requirejs.config({paths: { 'plotly': ['https://cdn.plot.ly/plotly-latest.min']},});if(!window.Plotly) {{require(['plotly'],function(plotly) {window.Plotly=plotly;});}}</script>"
      ],
      "text/vnd.plotly.v1+html": [
       "<script>requirejs.config({paths: { 'plotly': ['https://cdn.plot.ly/plotly-latest.min']},});if(!window.Plotly) {{require(['plotly'],function(plotly) {window.Plotly=plotly;});}}</script>"
      ]
     },
     "metadata": {},
     "output_type": "display_data"
    },
    {
     "data": {
      "application/vnd.plotly.v1+json": {
       "data": [
        {
         "labels": [
          "Politics",
          "Money",
          "Companies",
          "Industry",
          "Opinion",
          "Leisure",
          "Technology",
          "Sports",
          "Science"
         ],
         "type": "pie",
         "values": [
          3825,
          2457,
          2104,
          1973,
          1142,
          805,
          487,
          196,
          174
         ]
        }
       ],
       "layout": {}
      },
      "text/html": [
       "<div id=\"a922fbae-5c1f-43ad-9a02-1a20b2828c7a\" style=\"height: 525px; width: 100%;\" class=\"plotly-graph-div\"></div><script type=\"text/javascript\">require([\"plotly\"], function(Plotly) { window.PLOTLYENV=window.PLOTLYENV || {};window.PLOTLYENV.BASE_URL=\"https://plot.ly\";Plotly.newPlot(\"a922fbae-5c1f-43ad-9a02-1a20b2828c7a\", [{\"type\": \"pie\", \"labels\": [\"Politics\", \"Money\", \"Companies\", \"Industry\", \"Opinion\", \"Leisure\", \"Technology\", \"Sports\", \"Science\"], \"values\": [3825, 2457, 2104, 1973, 1142, 805, 487, 196, 174]}], {}, {\"showLink\": true, \"linkText\": \"Export to plot.ly\"})});</script>"
      ],
      "text/vnd.plotly.v1+html": [
       "<div id=\"a922fbae-5c1f-43ad-9a02-1a20b2828c7a\" style=\"height: 525px; width: 100%;\" class=\"plotly-graph-div\"></div><script type=\"text/javascript\">require([\"plotly\"], function(Plotly) { window.PLOTLYENV=window.PLOTLYENV || {};window.PLOTLYENV.BASE_URL=\"https://plot.ly\";Plotly.newPlot(\"a922fbae-5c1f-43ad-9a02-1a20b2828c7a\", [{\"type\": \"pie\", \"labels\": [\"Politics\", \"Money\", \"Companies\", \"Industry\", \"Opinion\", \"Leisure\", \"Technology\", \"Sports\", \"Science\"], \"values\": [3825, 2457, 2104, 1973, 1142, 805, 487, 196, 174]}], {}, {\"showLink\": true, \"linkText\": \"Export to plot.ly\"})});</script>"
      ]
     },
     "metadata": {},
     "output_type": "display_data"
    }
   ],
   "source": [
    "import plotly\n",
    "import pandas as pd\n",
    "import plotly.graph_objs as go\n",
    "plotly.offline.init_notebook_mode(connected=True)\n",
    "df=pd.read_csv('lm.csv',encoding='iso-8859-13')\n",
    "c_df=df['Category'].value_counts()\n",
    "c_df=c_df[c_df.values>100]\n",
    "labels=c_df.index\n",
    "values=c_df.values\n",
    "trace=go.Pie(labels=labels,values=values)\n",
    "plotly.offline.iplot([trace])"
   ]
  },
  {
   "cell_type": "code",
   "execution_count": null,
   "metadata": {},
   "outputs": [],
   "source": []
  }
 ],
 "metadata": {
  "kernelspec": {
   "display_name": "Python 3",
   "language": "python",
   "name": "python3"
  },
  "language_info": {
   "codemirror_mode": {
    "name": "ipython",
    "version": 3
   },
   "file_extension": ".py",
   "mimetype": "text/x-python",
   "name": "python",
   "nbconvert_exporter": "python",
   "pygments_lexer": "ipython3",
   "version": "3.6.5"
  }
 },
 "nbformat": 4,
 "nbformat_minor": 2
}
