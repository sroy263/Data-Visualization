{
 "cells": [
  {
   "cell_type": "code",
   "execution_count": 3,
   "metadata": {},
   "outputs": [
    {
     "data": {
      "text/html": [
       "<script>requirejs.config({paths: { 'plotly': ['https://cdn.plot.ly/plotly-latest.min']},});if(!window.Plotly) {{require(['plotly'],function(plotly) {window.Plotly=plotly;});}}</script>"
      ],
      "text/vnd.plotly.v1+html": [
       "<script>requirejs.config({paths: { 'plotly': ['https://cdn.plot.ly/plotly-latest.min']},});if(!window.Plotly) {{require(['plotly'],function(plotly) {window.Plotly=plotly;});}}</script>"
      ]
     },
     "metadata": {},
     "output_type": "display_data"
    },
    {
     "data": {
      "application/vnd.plotly.v1+json": {
       "data": [
        {
         "labels": [
          "Business",
          "India",
          "Stocks",
          "World",
          "Markets",
          "Economy",
          "Politics",
          "Announcements",
          "Earnings"
         ],
         "type": "pie",
         "values": [
          3438,
          3063,
          1170,
          1007,
          945,
          786,
          588,
          354,
          323
         ]
        }
       ],
       "layout": {}
      },
      "text/html": [
       "<div id=\"0d16d25f-a1d7-4d69-bcb7-e705c45b5795\" style=\"height: 525px; width: 100%;\" class=\"plotly-graph-div\"></div><script type=\"text/javascript\">require([\"plotly\"], function(Plotly) { window.PLOTLYENV=window.PLOTLYENV || {};window.PLOTLYENV.BASE_URL=\"https://plot.ly\";Plotly.newPlot(\"0d16d25f-a1d7-4d69-bcb7-e705c45b5795\", [{\"type\": \"pie\", \"labels\": [\"Business\", \"India\", \"Stocks\", \"World\", \"Markets\", \"Economy\", \"Politics\", \"Announcements\", \"Earnings\"], \"values\": [3438, 3063, 1170, 1007, 945, 786, 588, 354, 323]}], {}, {\"showLink\": true, \"linkText\": \"Export to plot.ly\"})});</script>"
      ],
      "text/vnd.plotly.v1+html": [
       "<div id=\"0d16d25f-a1d7-4d69-bcb7-e705c45b5795\" style=\"height: 525px; width: 100%;\" class=\"plotly-graph-div\"></div><script type=\"text/javascript\">require([\"plotly\"], function(Plotly) { window.PLOTLYENV=window.PLOTLYENV || {};window.PLOTLYENV.BASE_URL=\"https://plot.ly\";Plotly.newPlot(\"0d16d25f-a1d7-4d69-bcb7-e705c45b5795\", [{\"type\": \"pie\", \"labels\": [\"Business\", \"India\", \"Stocks\", \"World\", \"Markets\", \"Economy\", \"Politics\", \"Announcements\", \"Earnings\"], \"values\": [3438, 3063, 1170, 1007, 945, 786, 588, 354, 323]}], {}, {\"showLink\": true, \"linkText\": \"Export to plot.ly\"})});</script>"
      ]
     },
     "metadata": {},
     "output_type": "display_data"
    }
   ],
   "source": [
    "import plotly\n",
    "import pandas as pd\n",
    "import plotly.graph_objs as go\n",
    "plotly.offline.init_notebook_mode(connected=True)\n",
    "df=pd.read_csv('mc.csv',encoding='iso-8859-13')\n",
    "c_df=df['Category'].value_counts()\n",
    "c_df=c_df[c_df.values>300]\n",
    "labels=c_df.index\n",
    "values=c_df.values\n",
    "trace=go.Pie(labels=labels,values=values)\n",
    "plotly.offline.iplot([trace])"
   ]
  },
  {
   "cell_type": "code",
   "execution_count": null,
   "metadata": {},
   "outputs": [],
   "source": []
  }
 ],
 "metadata": {
  "kernelspec": {
   "display_name": "Python 3",
   "language": "python",
   "name": "python3"
  },
  "language_info": {
   "codemirror_mode": {
    "name": "ipython",
    "version": 3
   },
   "file_extension": ".py",
   "mimetype": "text/x-python",
   "name": "python",
   "nbconvert_exporter": "python",
   "pygments_lexer": "ipython3",
   "version": "3.6.5"
  }
 },
 "nbformat": 4,
 "nbformat_minor": 2
}
