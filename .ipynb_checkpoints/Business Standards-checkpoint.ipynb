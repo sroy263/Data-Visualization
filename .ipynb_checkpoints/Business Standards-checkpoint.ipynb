{
 "cells": [
  {
   "cell_type": "code",
   "execution_count": 100,
   "metadata": {},
   "outputs": [
    {
     "data": {
      "text/html": [
       "<script>requirejs.config({paths: { 'plotly': ['https://cdn.plot.ly/plotly-latest.min']},});if(!window.Plotly) {{require(['plotly'],function(plotly) {window.Plotly=plotly;});}}</script>"
      ],
      "text/vnd.plotly.v1+html": [
       "<script>requirejs.config({paths: { 'plotly': ['https://cdn.plot.ly/plotly-latest.min']},});if(!window.Plotly) {{require(['plotly'],function(plotly) {window.Plotly=plotly;});}}</script>"
      ]
     },
     "metadata": {},
     "output_type": "display_data"
    }
   ],
   "source": [
    "import plotly\n",
    "import pandas as pd\n",
    "import plotly.graph_objs as go\n",
    "plotly.offline.init_notebook_mode(connected=True)\n",
    "df=pd.read_csv('bs_1.csv',encoding='iso-8859-13')"
   ]
  },
  {
   "cell_type": "code",
   "execution_count": 101,
   "metadata": {},
   "outputs": [
    {
     "name": "stdout",
     "output_type": "stream",
     "text": [
      "18160\n"
     ]
    }
   ],
   "source": [
    "c_df=df['Category'].value_counts()\n",
    "val=list(c_df.values)\n",
    "s=sum(val)\n",
    "print(s)"
   ]
  },
  {
   "cell_type": "code",
   "execution_count": 102,
   "metadata": {},
   "outputs": [
    {
     "data": {
      "text/plain": [
       "[4562, 2579, 2386, 1878, 1822, 1736, 733, 454, 449, 419, 323, 232, 189]"
      ]
     },
     "execution_count": 102,
     "metadata": {},
     "output_type": "execute_result"
    }
   ],
   "source": [
    "m_df=c_df[(c_df.values/s)>0.01]\n",
    "labels=list(m_df.index)\n",
    "labels.append(\"Others\")\n",
    "values=list(m_df.values)\n",
    "values"
   ]
  },
  {
   "cell_type": "code",
   "execution_count": 103,
   "metadata": {},
   "outputs": [],
   "source": [
    "m=0\n",
    "for c in val:\n",
    "    if (c/s)<0.01:\n",
    "        m+=c\n",
    "\n",
    "m\n",
    "values.append(m)           "
   ]
  },
  {
   "cell_type": "code",
   "execution_count": 104,
   "metadata": {},
   "outputs": [
    {
     "data": {
      "application/vnd.plotly.v1+json": {
       "data": [
        {
         "labels": [
          "['Companies']",
          "['Economy & Policy']",
          "['Opinion']",
          "['Current Affairs']",
          "['Markets']",
          "['International']",
          "['Finance']",
          "['Budget']",
          "['Beyond Business']",
          "['PF']",
          "['Politics']",
          "['Technology']",
          "['Specials']",
          "Others"
         ],
         "type": "pie",
         "values": [
          4562,
          2579,
          2386,
          1878,
          1822,
          1736,
          733,
          454,
          449,
          419,
          323,
          232,
          189,
          398
         ]
        }
       ],
       "layout": {}
      },
      "text/html": [
       "<div id=\"83613356-6224-4b67-acf5-c20d2873d2e8\" style=\"height: 525px; width: 100%;\" class=\"plotly-graph-div\"></div><script type=\"text/javascript\">require([\"plotly\"], function(Plotly) { window.PLOTLYENV=window.PLOTLYENV || {};window.PLOTLYENV.BASE_URL=\"https://plot.ly\";Plotly.newPlot(\"83613356-6224-4b67-acf5-c20d2873d2e8\", [{\"type\": \"pie\", \"labels\": [\"['Companies']\", \"['Economy & Policy']\", \"['Opinion']\", \"['Current Affairs']\", \"['Markets']\", \"['International']\", \"['Finance']\", \"['Budget']\", \"['Beyond Business']\", \"['PF']\", \"['Politics']\", \"['Technology']\", \"['Specials']\", \"Others\"], \"values\": [4562, 2579, 2386, 1878, 1822, 1736, 733, 454, 449, 419, 323, 232, 189, 398]}], {}, {\"showLink\": true, \"linkText\": \"Export to plot.ly\"})});</script>"
      ],
      "text/vnd.plotly.v1+html": [
       "<div id=\"83613356-6224-4b67-acf5-c20d2873d2e8\" style=\"height: 525px; width: 100%;\" class=\"plotly-graph-div\"></div><script type=\"text/javascript\">require([\"plotly\"], function(Plotly) { window.PLOTLYENV=window.PLOTLYENV || {};window.PLOTLYENV.BASE_URL=\"https://plot.ly\";Plotly.newPlot(\"83613356-6224-4b67-acf5-c20d2873d2e8\", [{\"type\": \"pie\", \"labels\": [\"['Companies']\", \"['Economy & Policy']\", \"['Opinion']\", \"['Current Affairs']\", \"['Markets']\", \"['International']\", \"['Finance']\", \"['Budget']\", \"['Beyond Business']\", \"['PF']\", \"['Politics']\", \"['Technology']\", \"['Specials']\", \"Others\"], \"values\": [4562, 2579, 2386, 1878, 1822, 1736, 733, 454, 449, 419, 323, 232, 189, 398]}], {}, {\"showLink\": true, \"linkText\": \"Export to plot.ly\"})});</script>"
      ]
     },
     "metadata": {},
     "output_type": "display_data"
    }
   ],
   "source": [
    "trace=go.Pie(labels=labels,values=values)\n",
    "plotly.offline.iplot([trace])"
   ]
  },
  {
   "cell_type": "code",
   "execution_count": null,
   "metadata": {},
   "outputs": [],
   "source": []
  }
 ],
 "metadata": {
  "kernelspec": {
   "display_name": "Python 3",
   "language": "python",
   "name": "python3"
  },
  "language_info": {
   "codemirror_mode": {
    "name": "ipython",
    "version": 3
   },
   "file_extension": ".py",
   "mimetype": "text/x-python",
   "name": "python",
   "nbconvert_exporter": "python",
   "pygments_lexer": "ipython3",
   "version": "3.6.5"
  }
 },
 "nbformat": 4,
 "nbformat_minor": 2
}
