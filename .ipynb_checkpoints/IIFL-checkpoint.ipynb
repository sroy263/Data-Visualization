{
 "cells": [
  {
   "cell_type": "code",
   "execution_count": 4,
   "metadata": {},
   "outputs": [
    {
     "data": {
      "text/html": [
       "<script>requirejs.config({paths: { 'plotly': ['https://cdn.plot.ly/plotly-latest.min']},});if(!window.Plotly) {{require(['plotly'],function(plotly) {window.Plotly=plotly;});}}</script>"
      ],
      "text/vnd.plotly.v1+html": [
       "<script>requirejs.config({paths: { 'plotly': ['https://cdn.plot.ly/plotly-latest.min']},});if(!window.Plotly) {{require(['plotly'],function(plotly) {window.Plotly=plotly;});}}</script>"
      ]
     },
     "metadata": {},
     "output_type": "display_data"
    },
    {
     "data": {
      "application/vnd.plotly.v1+json": {
       "data": [
        {
         "labels": [
          "['India Infoline News Servi']",
          "['India Infoline News Service ']",
          "['India Infoline News Ser']",
          "['Business Wi']",
          "['Business Wire ']",
          "['India Infoline News Service']",
          "['Business ']"
         ],
         "type": "pie",
         "values": [
          1732,
          796,
          733,
          148,
          59,
          53,
          45
         ]
        }
       ],
       "layout": {}
      },
      "text/html": [
       "<div id=\"6c48488c-2645-4b77-ae5b-ddad3cba5b81\" style=\"height: 525px; width: 100%;\" class=\"plotly-graph-div\"></div><script type=\"text/javascript\">require([\"plotly\"], function(Plotly) { window.PLOTLYENV=window.PLOTLYENV || {};window.PLOTLYENV.BASE_URL=\"https://plot.ly\";Plotly.newPlot(\"6c48488c-2645-4b77-ae5b-ddad3cba5b81\", [{\"type\": \"pie\", \"labels\": [\"['India Infoline News Servi']\", \"['India Infoline News Service ']\", \"['India Infoline News Ser']\", \"['Business Wi']\", \"['Business Wire ']\", \"['India Infoline News Service']\", \"['Business ']\"], \"values\": [1732, 796, 733, 148, 59, 53, 45]}], {}, {\"showLink\": true, \"linkText\": \"Export to plot.ly\"})});</script>"
      ],
      "text/vnd.plotly.v1+html": [
       "<div id=\"6c48488c-2645-4b77-ae5b-ddad3cba5b81\" style=\"height: 525px; width: 100%;\" class=\"plotly-graph-div\"></div><script type=\"text/javascript\">require([\"plotly\"], function(Plotly) { window.PLOTLYENV=window.PLOTLYENV || {};window.PLOTLYENV.BASE_URL=\"https://plot.ly\";Plotly.newPlot(\"6c48488c-2645-4b77-ae5b-ddad3cba5b81\", [{\"type\": \"pie\", \"labels\": [\"['India Infoline News Servi']\", \"['India Infoline News Service ']\", \"['India Infoline News Ser']\", \"['Business Wi']\", \"['Business Wire ']\", \"['India Infoline News Service']\", \"['Business ']\"], \"values\": [1732, 796, 733, 148, 59, 53, 45]}], {}, {\"showLink\": true, \"linkText\": \"Export to plot.ly\"})});</script>"
      ]
     },
     "metadata": {},
     "output_type": "display_data"
    }
   ],
   "source": [
    "import plotly\n",
    "import pandas as pd\n",
    "import plotly.graph_objs as go\n",
    "plotly.offline.init_notebook_mode(connected=True)\n",
    "df=pd.read_csv('IIFL.csv',encoding='iso-8859-13')\n",
    "c_df=df['Author'].value_counts()\n",
    "c_df=c_df[c_df.values>10]\n",
    "labels=c_df.index\n",
    "values=c_df.values\n",
    "trace=go.Pie(labels=labels,values=values)\n",
    "plotly.offline.iplot([trace])"
   ]
  },
  {
   "cell_type": "code",
   "execution_count": null,
   "metadata": {},
   "outputs": [],
   "source": []
  }
 ],
 "metadata": {
  "kernelspec": {
   "display_name": "Python 3",
   "language": "python",
   "name": "python3"
  },
  "language_info": {
   "codemirror_mode": {
    "name": "ipython",
    "version": 3
   },
   "file_extension": ".py",
   "mimetype": "text/x-python",
   "name": "python",
   "nbconvert_exporter": "python",
   "pygments_lexer": "ipython3",
   "version": "3.6.5"
  }
 },
 "nbformat": 4,
 "nbformat_minor": 2
}
