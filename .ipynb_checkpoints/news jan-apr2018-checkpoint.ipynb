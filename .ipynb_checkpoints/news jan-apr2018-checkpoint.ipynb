{
 "cells": [
  {
   "cell_type": "code",
   "execution_count": 1,
   "metadata": {
    "scrolled": false
   },
   "outputs": [
    {
     "data": {
      "text/html": [
       "<script>requirejs.config({paths: { 'plotly': ['https://cdn.plot.ly/plotly-latest.min']},});if(!window.Plotly) {{require(['plotly'],function(plotly) {window.Plotly=plotly;});}}</script>"
      ],
      "text/vnd.plotly.v1+html": [
       "<script>requirejs.config({paths: { 'plotly': ['https://cdn.plot.ly/plotly-latest.min']},});if(!window.Plotly) {{require(['plotly'],function(plotly) {window.Plotly=plotly;});}}</script>"
      ]
     },
     "metadata": {},
     "output_type": "display_data"
    },
    {
     "data": {
      "application/vnd.plotly.v1+json": {
       "data": [
        {
         "labels": [
          "moneycontrol",
          "bloombergquint",
          "Rueters",
          "econominc-times",
          "livemint",
          "businessStandards",
          "IIFL"
         ],
         "type": "pie",
         "values": [
          10388,
          8302,
          7310,
          5809,
          4318,
          4129,
          2574
         ]
        }
       ],
       "layout": {}
      },
      "text/html": [
       "<div id=\"ef4195cb-2d1f-46fc-97ea-51e8af97d846\" style=\"height: 525px; width: 100%;\" class=\"plotly-graph-div\"></div><script type=\"text/javascript\">require([\"plotly\"], function(Plotly) { window.PLOTLYENV=window.PLOTLYENV || {};window.PLOTLYENV.BASE_URL=\"https://plot.ly\";Plotly.newPlot(\"ef4195cb-2d1f-46fc-97ea-51e8af97d846\", [{\"type\": \"pie\", \"labels\": [\"moneycontrol\", \"bloombergquint\", \"Rueters\", \"econominc-times\", \"livemint\", \"businessStandards\", \"IIFL\"], \"values\": [10388, 8302, 7310, 5809, 4318, 4129, 2574]}], {}, {\"showLink\": true, \"linkText\": \"Export to plot.ly\"})});</script>"
      ],
      "text/vnd.plotly.v1+html": [
       "<div id=\"ef4195cb-2d1f-46fc-97ea-51e8af97d846\" style=\"height: 525px; width: 100%;\" class=\"plotly-graph-div\"></div><script type=\"text/javascript\">require([\"plotly\"], function(Plotly) { window.PLOTLYENV=window.PLOTLYENV || {};window.PLOTLYENV.BASE_URL=\"https://plot.ly\";Plotly.newPlot(\"ef4195cb-2d1f-46fc-97ea-51e8af97d846\", [{\"type\": \"pie\", \"labels\": [\"moneycontrol\", \"bloombergquint\", \"Rueters\", \"econominc-times\", \"livemint\", \"businessStandards\", \"IIFL\"], \"values\": [10388, 8302, 7310, 5809, 4318, 4129, 2574]}], {}, {\"showLink\": true, \"linkText\": \"Export to plot.ly\"})});</script>"
      ]
     },
     "metadata": {},
     "output_type": "display_data"
    }
   ],
   "source": [
    "import plotly\n",
    "import pandas as pd\n",
    "import plotly.graph_objs as go\n",
    "plotly.offline.init_notebook_mode(connected=True)\n",
    "df=pd.read_csv('new.csv',encoding='iso-8859-13')\n",
    "c_df=df['Source'].value_counts()\n",
    "c_df=c_df[c_df.values>100]\n",
    "labels=c_df.index\n",
    "values=c_df.values\n",
    "trace=go.Pie(labels=labels,values=values)\n",
    "plotly.offline.iplot([trace])"
   ]
  },
  {
   "cell_type": "code",
   "execution_count": null,
   "metadata": {},
   "outputs": [],
   "source": []
  }
 ],
 "metadata": {
  "kernelspec": {
   "display_name": "Python 3",
   "language": "python",
   "name": "python3"
  },
  "language_info": {
   "codemirror_mode": {
    "name": "ipython",
    "version": 3
   },
   "file_extension": ".py",
   "mimetype": "text/x-python",
   "name": "python",
   "nbconvert_exporter": "python",
   "pygments_lexer": "ipython3",
   "version": "3.6.5"
  }
 },
 "nbformat": 4,
 "nbformat_minor": 2
}
