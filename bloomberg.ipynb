{
 "cells": [
  {
   "cell_type": "code",
   "execution_count": 1,
   "metadata": {},
   "outputs": [
    {
     "data": {
      "text/html": [
       "<script>requirejs.config({paths: { 'plotly': ['https://cdn.plot.ly/plotly-latest.min']},});if(!window.Plotly) {{require(['plotly'],function(plotly) {window.Plotly=plotly;});}}</script>"
      ],
      "text/vnd.plotly.v1+html": [
       "<script>requirejs.config({paths: { 'plotly': ['https://cdn.plot.ly/plotly-latest.min']},});if(!window.Plotly) {{require(['plotly'],function(plotly) {window.Plotly=plotly;});}}</script>"
      ]
     },
     "metadata": {},
     "output_type": "display_data"
    },
    {
     "name": "stdout",
     "output_type": "stream",
     "text": [
      "total news: 8772\n"
     ]
    },
    {
     "data": {
      "text/plain": [
       "'file://C:\\\\Users\\\\sourav\\\\Desktop\\\\sbt\\\\pie charts of sources\\\\Bloomberg.html'"
      ]
     },
     "execution_count": 1,
     "metadata": {},
     "output_type": "execute_result"
    }
   ],
   "source": [
    "import plotly\n",
    "import pandas as pd\n",
    "import plotly.graph_objs as go\n",
    "plotly.offline.init_notebook_mode(connected=True)\n",
    "df=pd.read_csv('bl.csv',encoding='iso-8859-13')\n",
    "c_df=df['Category'].value_counts()\n",
    "val=list(c_df.values)\n",
    "s=sum(val)\n",
    "print(\"total news:\",s)\n",
    "m_df=c_df[(c_df.values/s)>0.01]\n",
    "labels=list(m_df.index)\n",
    "labels.append(\"Others\")\n",
    "values=list(m_df.values)\n",
    "values\n",
    "m=0\n",
    "for c in val:\n",
    "    if (c/s)<0.01:\n",
    "        m+=c\n",
    "\n",
    "m\n",
    "values.append(m)\n",
    "trace=go.Pie(labels=labels,values=values)\n",
    "plotly.offline.plot([trace],filename='Bloomberg.html')"
   ]
  },
  {
   "cell_type": "code",
   "execution_count": null,
   "metadata": {},
   "outputs": [],
   "source": []
  }
 ],
 "metadata": {
  "kernelspec": {
   "display_name": "Python 3",
   "language": "python",
   "name": "python3"
  },
  "language_info": {
   "codemirror_mode": {
    "name": "ipython",
    "version": 3
   },
   "file_extension": ".py",
   "mimetype": "text/x-python",
   "name": "python",
   "nbconvert_exporter": "python",
   "pygments_lexer": "ipython3",
   "version": "3.6.6"
  }
 },
 "nbformat": 4,
 "nbformat_minor": 2
}
