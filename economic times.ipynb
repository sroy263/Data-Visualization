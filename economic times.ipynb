{
 "cells": [
  {
   "cell_type": "code",
   "execution_count": 1,
   "metadata": {
    "scrolled": true
   },
   "outputs": [
    {
     "data": {
      "text/html": [
       "<script>requirejs.config({paths: { 'plotly': ['https://cdn.plot.ly/plotly-latest.min']},});if(!window.Plotly) {{require(['plotly'],function(plotly) {window.Plotly=plotly;});}}</script>"
      ],
      "text/vnd.plotly.v1+html": [
       "<script>requirejs.config({paths: { 'plotly': ['https://cdn.plot.ly/plotly-latest.min']},});if(!window.Plotly) {{require(['plotly'],function(plotly) {window.Plotly=plotly;});}}</script>"
      ]
     },
     "metadata": {},
     "output_type": "display_data"
    },
    {
     "data": {
      "text/html": [
       "<div>\n",
       "<style scoped>\n",
       "    .dataframe tbody tr th:only-of-type {\n",
       "        vertical-align: middle;\n",
       "    }\n",
       "\n",
       "    .dataframe tbody tr th {\n",
       "        vertical-align: top;\n",
       "    }\n",
       "\n",
       "    .dataframe thead th {\n",
       "        text-align: right;\n",
       "    }\n",
       "</style>\n",
       "<table border=\"1\" class=\"dataframe\">\n",
       "  <thead>\n",
       "    <tr style=\"text-align: right;\">\n",
       "      <th></th>\n",
       "      <th>table</th>\n",
       "    </tr>\n",
       "  </thead>\n",
       "  <tbody>\n",
       "    <tr>\n",
       "      <th>['Budget 2018'</th>\n",
       "      <td>1</td>\n",
       "    </tr>\n",
       "    <tr>\n",
       "      <th>['Default Subsec'</th>\n",
       "      <td>1</td>\n",
       "    </tr>\n",
       "    <tr>\n",
       "      <th>['Industry'</th>\n",
       "      <td>1331</td>\n",
       "    </tr>\n",
       "    <tr>\n",
       "      <th>['Jobs']</th>\n",
       "      <td>38</td>\n",
       "    </tr>\n",
       "    <tr>\n",
       "      <th>['MF'</th>\n",
       "      <td>188</td>\n",
       "    </tr>\n",
       "    <tr>\n",
       "      <th>['Magazines'</th>\n",
       "      <td>937</td>\n",
       "    </tr>\n",
       "    <tr>\n",
       "      <th>['Markets'</th>\n",
       "      <td>2279</td>\n",
       "    </tr>\n",
       "    <tr>\n",
       "      <th>['NRI'</th>\n",
       "      <td>24</td>\n",
       "    </tr>\n",
       "    <tr>\n",
       "      <th>['News'</th>\n",
       "      <td>6040</td>\n",
       "    </tr>\n",
       "    <tr>\n",
       "      <th>['Opinion'</th>\n",
       "      <td>16</td>\n",
       "    </tr>\n",
       "    <tr>\n",
       "      <th>['RISE'</th>\n",
       "      <td>328</td>\n",
       "    </tr>\n",
       "    <tr>\n",
       "      <th>['Tech'</th>\n",
       "      <td>182</td>\n",
       "    </tr>\n",
       "    <tr>\n",
       "      <th>['Wealth'</th>\n",
       "      <td>206</td>\n",
       "    </tr>\n",
       "    <tr>\n",
       "      <th>[]</th>\n",
       "      <td>15</td>\n",
       "    </tr>\n",
       "  </tbody>\n",
       "</table>\n",
       "</div>"
      ],
      "text/plain": [
       "                   table\n",
       "['Budget 2018'         1\n",
       "['Default Subsec'      1\n",
       "['Industry'         1331\n",
       "['Jobs']              38\n",
       "['MF'                188\n",
       "['Magazines'         937\n",
       "['Markets'          2279\n",
       "['NRI'                24\n",
       "['News'             6040\n",
       "['Opinion'            16\n",
       "['RISE'              328\n",
       "['Tech'              182\n",
       "['Wealth'            206\n",
       "[]                    15"
      ]
     },
     "execution_count": 1,
     "metadata": {},
     "output_type": "execute_result"
    }
   ],
   "source": [
    "import plotly\n",
    "import pandas as pd\n",
    "import numpy as np\n",
    "from collections import Counter\n",
    "import plotly.graph_objs as go\n",
    "plotly.offline.init_notebook_mode(connected=True)\n",
    "df=pd.read_csv('et.csv',encoding='iso-8859-13')\n",
    "titles=(df.Category)\n",
    "titles\n",
    "val=list(titles.values)\n",
    "val=[i.split(\",\", 1)[0] for i in val]\n",
    "M=Counter(val)\n",
    "m_df=pd.DataFrame({'table':M})\n",
    "m_df"
   ]
  },
  {
   "cell_type": "code",
   "execution_count": 6,
   "metadata": {},
   "outputs": [
    {
     "name": "stdout",
     "output_type": "stream",
     "text": [
      "                   table\n",
      "['Budget 2018'         1\n",
      "['Default Subsec'      1\n",
      "['Industry'         1331\n",
      "['Jobs']              38\n",
      "['MF'                188\n",
      "['Magazines'         937\n",
      "['Markets'          2279\n",
      "['NRI'                24\n",
      "['News'             6040\n",
      "['Opinion'            16\n",
      "['RISE'              328\n",
      "['Tech'              182\n",
      "['Wealth'            206\n",
      "[]                    15\n"
     ]
    },
    {
     "data": {
      "text/plain": [
       "numpy.ndarray"
      ]
     },
     "execution_count": 6,
     "metadata": {},
     "output_type": "execute_result"
    }
   ],
   "source": [
    "lab=m_df.index\n",
    "val=list(m_df.values)\n",
    "nval=list()\n",
    "for i in val:\n",
    "    for j in i:\n",
    "        nval.append(j)\n",
    "new_df=pd.DataFrame(index=lab,data=nval)\n",
    "print(m_df)\n",
    "val=new_df.values\n",
    "s=sum(val)\n",
    "type(val)"
   ]
  },
  {
   "cell_type": "code",
   "execution_count": 7,
   "metadata": {},
   "outputs": [
    {
     "data": {
      "application/vnd.plotly.v1+json": {
       "data": [
        {
         "labels": [
          "['Budget 2018'",
          "['Default Subsec'",
          "['Industry'",
          "['Jobs']",
          "['MF'",
          "['Magazines'",
          "['Markets'",
          "['NRI'",
          "['News'",
          "['Opinion'",
          "['RISE'",
          "['Tech'",
          "['Wealth'",
          "[]"
         ],
         "type": "pie",
         "values": [
          [
           1
          ],
          [
           1
          ],
          [
           1331
          ],
          [
           38
          ],
          [
           188
          ],
          [
           937
          ],
          [
           2279
          ],
          [
           24
          ],
          [
           6040
          ],
          [
           16
          ],
          [
           328
          ],
          [
           182
          ],
          [
           206
          ],
          [
           15
          ]
         ]
        }
       ],
       "layout": {}
      },
      "text/html": [
       "<div id=\"50a6d2ec-fe0a-4a82-91b6-6dd5683fb633\" style=\"height: 525px; width: 100%;\" class=\"plotly-graph-div\"></div><script type=\"text/javascript\">require([\"plotly\"], function(Plotly) { window.PLOTLYENV=window.PLOTLYENV || {};window.PLOTLYENV.BASE_URL=\"https://plot.ly\";Plotly.newPlot(\"50a6d2ec-fe0a-4a82-91b6-6dd5683fb633\", [{\"type\": \"pie\", \"labels\": [\"['Budget 2018'\", \"['Default Subsec'\", \"['Industry'\", \"['Jobs']\", \"['MF'\", \"['Magazines'\", \"['Markets'\", \"['NRI'\", \"['News'\", \"['Opinion'\", \"['RISE'\", \"['Tech'\", \"['Wealth'\", \"[]\"], \"values\": [[1], [1], [1331], [38], [188], [937], [2279], [24], [6040], [16], [328], [182], [206], [15]]}], {}, {\"showLink\": true, \"linkText\": \"Export to plot.ly\"})});</script>"
      ],
      "text/vnd.plotly.v1+html": [
       "<div id=\"50a6d2ec-fe0a-4a82-91b6-6dd5683fb633\" style=\"height: 525px; width: 100%;\" class=\"plotly-graph-div\"></div><script type=\"text/javascript\">require([\"plotly\"], function(Plotly) { window.PLOTLYENV=window.PLOTLYENV || {};window.PLOTLYENV.BASE_URL=\"https://plot.ly\";Plotly.newPlot(\"50a6d2ec-fe0a-4a82-91b6-6dd5683fb633\", [{\"type\": \"pie\", \"labels\": [\"['Budget 2018'\", \"['Default Subsec'\", \"['Industry'\", \"['Jobs']\", \"['MF'\", \"['Magazines'\", \"['Markets'\", \"['NRI'\", \"['News'\", \"['Opinion'\", \"['RISE'\", \"['Tech'\", \"['Wealth'\", \"[]\"], \"values\": [[1], [1], [1331], [38], [188], [937], [2279], [24], [6040], [16], [328], [182], [206], [15]]}], {}, {\"showLink\": true, \"linkText\": \"Export to plot.ly\"})});</script>"
      ]
     },
     "metadata": {},
     "output_type": "display_data"
    }
   ],
   "source": [
    "trace=go.Pie(labels=lab,values=val)\n",
    "plotly.offline.iplot([trace])"
   ]
  },
  {
   "cell_type": "code",
   "execution_count": null,
   "metadata": {},
   "outputs": [],
   "source": []
  }
 ],
 "metadata": {
  "kernelspec": {
   "display_name": "Python 3",
   "language": "python",
   "name": "python3"
  },
  "language_info": {
   "codemirror_mode": {
    "name": "ipython",
    "version": 3
   },
   "file_extension": ".py",
   "mimetype": "text/x-python",
   "name": "python",
   "nbconvert_exporter": "python",
   "pygments_lexer": "ipython3",
   "version": "3.6.5"
  }
 },
 "nbformat": 4,
 "nbformat_minor": 2
}
